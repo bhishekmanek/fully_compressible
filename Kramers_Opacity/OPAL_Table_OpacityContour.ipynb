{
 "cells": [
  {
   "cell_type": "code",
   "execution_count": 2,
   "id": "81e2deb0",
   "metadata": {},
   "outputs": [],
   "source": [
    "import numpy as np\n",
    "import matplotlib.pyplot as plt"
   ]
  },
  {
   "cell_type": "code",
   "execution_count": 3,
   "id": "091cb37d",
   "metadata": {},
   "outputs": [],
   "source": [
    "x = np.linspace(-8.0,1.0,19)\n",
    "y = np.loadtxt(\"logT_values\", dtype=float)"
   ]
  },
  {
   "cell_type": "code",
   "execution_count": 4,
   "id": "efae0eb8",
   "metadata": {},
   "outputs": [],
   "source": [
    "# Data taken from: https://opalopacity.llnl.gov/pub/opal/type2data/Gz010/ascii/Gz010.x70 Table #1\n",
    "Opal_data = np.loadtxt(\"test_opacity_new\", dtype=float)"
   ]
  },
  {
   "cell_type": "code",
   "execution_count": 5,
   "id": "0f29efac",
   "metadata": {},
   "outputs": [
    {
     "data": {
      "text/plain": [
       "(70, 19)"
      ]
     },
     "execution_count": 5,
     "metadata": {},
     "output_type": "execute_result"
    }
   ],
   "source": [
    "np.shape(Opal_data)"
   ]
  },
  {
   "cell_type": "code",
   "execution_count": 6,
   "id": "9720048a",
   "metadata": {},
   "outputs": [],
   "source": [
    "x_1, y_1 = np.meshgrid(x, y)"
   ]
  },
  {
   "cell_type": "code",
   "execution_count": 7,
   "id": "ae6e3590",
   "metadata": {},
   "outputs": [
    {
     "data": {
      "image/png": "[encoded data removed]",
      "text/plain": [
       "<Figure size 432x288 with 2 Axes>"
      ]
     },
     "metadata": {
      "needs_background": "light"
     },
     "output_type": "display_data"
    }
   ],
   "source": [
    "fig,ax=plt.subplots(1,1)\n",
    "cp = ax.contourf(x_1, y_1, Opal_data, cmap=plt.cm.viridis)\n",
    "cbar = fig.colorbar(cp)\n",
    "cbar.ax.set_ylabel('log (k)')\n",
    "ax.set_title('logarithm of the Rosseland mean opacity, X=0.70, Y=0.29, Z=0.01')\n",
    "ax.set_ylabel('log (T)')\n",
    "ax.set_xlabel('log (rho)')\n",
    "plt.show()"
   ]
  },
  {
   "cell_type": "code",
   "execution_count": 8,
   "id": "a72caab9",
   "metadata": {},
   "outputs": [],
   "source": [
    "# Calculate opacity using Kramers opacity law\n",
    "logrho = np.linspace(-8.0,1.0,19)\n",
    "logtemp = np.loadtxt(\"logT_values\", dtype=float)\n",
    "rho_meshgrid, temp_meshgrid = np.meshgrid(logrho, logtemp)"
   ]
  },
  {
   "cell_type": "code",
   "execution_count": 19,
   "id": "1a9250a5",
   "metadata": {},
   "outputs": [],
   "source": [
    "a = 1.0\n",
    "b = -3.5\n",
    "k0 = 1e7"
   ]
  },
  {
   "cell_type": "code",
   "execution_count": 20,
   "id": "7fdb173a",
   "metadata": {},
   "outputs": [],
   "source": [
    "logk = np.empty((70,19))"
   ]
  },
  {
   "cell_type": "code",
   "execution_count": 21,
   "id": "16f39761",
   "metadata": {},
   "outputs": [],
   "source": [
    "for i in range(len(logtemp)):\n",
    "    for j in range(len(logrho)):\n",
    "        logk[i,j] = np.log(k0) + a*logrho[j] + b*logtemp[i] # k=k0*(rho^a)*(temp^b)"
   ]
  },
  {
   "cell_type": "code",
   "execution_count": 22,
   "id": "c1f96f66",
   "metadata": {},
   "outputs": [
    {
     "data": {
      "image/png": "[encoded data removed]",
      "text/plain": [
       "<Figure size 432x288 with 2 Axes>"
      ]
     },
     "metadata": {
      "needs_background": "light"
     },
     "output_type": "display_data"
    }
   ],
   "source": [
    "fig1,ax1=plt.subplots(1,1)\n",
    "cp = ax1.contourf(rho_meshgrid, temp_meshgrid, logk, cmap=plt.cm.viridis)\n",
    "cbar = fig1.colorbar(cp)\n",
    "#cbar.ax1.set_ylabel('log (k)')\n",
    "ax1.set_title('logarithm of the Kramers opacity')\n",
    "ax1.set_ylabel('log (T)')\n",
    "ax1.set_xlabel('log (rho)')\n",
    "plt.show()"
   ]
  },
  {
   "cell_type": "code",
   "execution_count": 13,
   "id": "36e65be1",
   "metadata": {},
   "outputs": [
    {
     "data": {
      "text/plain": [
       "(70, 19)"
      ]
     },
     "execution_count": 13,
     "metadata": {},
     "output_type": "execute_result"
    }
   ],
   "source": [
    "np.shape(rho_meshgrid)"
   ]
  },
  {
   "cell_type": "code",
   "execution_count": 14,
   "id": "2d730a51",
   "metadata": {},
   "outputs": [
    {
     "data": {
      "text/plain": [
       "-2.3793192560476317"
      ]
     },
     "execution_count": 14,
     "metadata": {},
     "output_type": "execute_result"
    }
   ],
   "source": [
    "logk[1,1]"
   ]
  }
 ],
 "metadata": {
  "kernelspec": {
   "display_name": "Python 3 (ipykernel)",
   "language": "python",
   "name": "python3"
  },
  "language_info": {
   "codemirror_mode": {
    "name": "ipython",
    "version": 3
   },
   "file_extension": ".py",
   "mimetype": "text/x-python",
   "name": "python",
   "nbconvert_exporter": "python",
   "pygments_lexer": "ipython3",
   "version": "3.9.12"
  }
 },
 "nbformat": 4,
 "nbformat_minor": 5
}
